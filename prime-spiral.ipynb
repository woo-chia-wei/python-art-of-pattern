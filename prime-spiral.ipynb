{
 "cells": [
  {
   "cell_type": "code",
   "execution_count": 62,
   "metadata": {},
   "outputs": [],
   "source": [
    "from enum import Enum\n",
    "from sympy.ntheory import isprime\n",
    "import matplotlib.pyplot as plt"
   ]
  },
  {
   "cell_type": "code",
   "execution_count": 65,
   "metadata": {},
   "outputs": [],
   "source": [
    "class Direction(Enum):\n",
    "    EAST = (1, 0)\n",
    "    SOUTH = (0, -1)\n",
    "    WEST = (-1, 0)\n",
    "    NORTH = (0, 1)\n",
    "    \n",
    "def rotate(direction):\n",
    "    if direction == Direction.EAST: return Direction.NORTH\n",
    "    if direction == Direction.SOUTH: return Direction.EAST\n",
    "    if direction == Direction.WEST: return Direction.SOUTH\n",
    "    if direction == Direction.NORTH: return Direction.WEST\n",
    "\n",
    "def draw(count):\n",
    "    \n",
    "    def initialize_turning_points(max):\n",
    "        turnings = [1]\n",
    "        for i in range(max):\n",
    "            turnings.append(turnings[-1] + int(i/2) + 1)\n",
    "            if(turnings[-1] > max): break\n",
    "        return turnings[1:]\n",
    "\n",
    "    def mark_prime(x, y):\n",
    "        plt.plot([x], [y], marker='o', markersize=5, color=\"red\")\n",
    "        \n",
    "    # Initialization\n",
    "    turning_points = initialize_turning_points(count)\n",
    "    direction = Direction.EAST \n",
    "    step = 1\n",
    "    x_coordinates = [0]\n",
    "    y_coordinates = [0]\n",
    "\n",
    "    for i in range(count):\n",
    "        # Rotate in clockwise direction if it is turning point\n",
    "        if(step in turning_points): direction = rotate(direction)\n",
    "        \n",
    "        # Mark as red point if current number is prime\n",
    "        if isprime(step): mark_prime(x_coordinates[-1], y_coordinates[-1])\n",
    "            \n",
    "        # Update x, y points\n",
    "        x_increment, y_increment = direction.value\n",
    "        x_coordinates.append(x_coordinates[-1] + x_increment)\n",
    "        y_coordinates.append(y_coordinates[-1] + y_increment)\n",
    "\n",
    "        step = step + 1\n",
    "\n",
    "    plt.axis('equal')\n",
    "    plt.axis('off')\n",
    "    plt.plot(x_coordinates, y_coordinates)\n",
    "    plt.show()"
   ]
  },
  {
   "cell_type": "code",
   "execution_count": 73,
   "metadata": {},
   "outputs": [
    {
     "data": {
      "image/png": "[encoded data removed]",
      "text/plain": [
       "<matplotlib.figure.Figure at 0x184511a5e48>"
      ]
     },
     "metadata": {},
     "output_type": "display_data"
    }
   ],
   "source": [
    "draw(600)"
   ]
  }
 ],
 "metadata": {
  "kernelspec": {
   "display_name": "Python 3",
   "language": "python",
   "name": "python3"
  },
  "language_info": {
   "codemirror_mode": {
    "name": "ipython",
    "version": 3
   },
   "file_extension": ".py",
   "mimetype": "text/x-python",
   "name": "python",
   "nbconvert_exporter": "python",
   "pygments_lexer": "ipython3",
   "version": "3.6.1"
  }
 },
 "nbformat": 4,
 "nbformat_minor": 2
}
